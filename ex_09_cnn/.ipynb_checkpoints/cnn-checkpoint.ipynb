{
 "cells": [
  {
   "cell_type": "markdown",
   "metadata": {},
   "source": [
    "# Exercise 09: Convolutional Neural Networks\n",
    "$\\renewcommand{\\real}{\\mathbb{R}}$\n",
    "$\\renewcommand{\\xb}{\\mathbf{x}}$\n",
    "$\\renewcommand{\\yb}{\\mathbf{y}}$\n",
    "$\\renewcommand{\\zb}{\\mathbf{z}}$\n",
    "$\\renewcommand{\\wb}{\\mathbf{w}}$\n",
    "$\\renewcommand{\\Xb}{\\mathbf{X}}$\n",
    "$\\renewcommand{\\Lb}{\\mathbf{L}}$\n",
    "$\\DeclareMathOperator*{\\argmin}{argmin}$"
   ]
  },
  {
   "cell_type": "markdown",
   "metadata": {},
   "source": [
    "In this exercise session, we will learn about PyTorch, one of the most used framework for deep learning in python. We will use it to implement our own neural networks and train them through gradient descent.\n",
    "\n",
    "## Dependencies\n",
    "\n",
    "Before you start, please make sure to install the following packages:\n",
    "\n",
    "**torch**: The framework we will use for training deep nets, with usefull sub-modules `torch.nn` and `torch.nn.functional` that we import below.\n",
    "\n",
    "**torchvision**: Helper package consisting of popular datasets, model architectures, and common image transformations for computer vision. We will use it for loading the MNIST dataset and to perform simple data transformations.\n",
    "\n",
    "In order to install them, you can:\n",
    "* run the following cell\n",
    "* or run the following command in a terminal (you may need to restart the notebook afterwards):\n",
    "\n",
    "`conda install -y pytorch torchvision -c pytorch`"
   ]
  },
  {
   "cell_type": "code",
   "execution_count": null,
   "metadata": {},
   "outputs": [],
   "source": [
    "try:\n",
    "    import torch\n",
    "    import torchvision\n",
    "except ModuleNotFoundError:\n",
    "    import sys\n",
    "    !conda install --yes --prefix {sys.prefix} pytorch torchvision -c pytorch"
   ]
  },
  {
   "cell_type": "code",
   "execution_count": null,
   "metadata": {},
   "outputs": [],
   "source": [
    "import numpy as np\n",
    "\n",
    "# We import PyTorch and some of its internal modules\n",
    "import torch\n",
    "import torch.nn as nn\n",
    "import torch.nn.functional as F\n",
    "from torch.utils.data import DataLoader\n",
    "from torchvision.datasets import MNIST\n",
    "from torchvision.transforms import ToTensor\n",
    "\n",
    "# Helper functions for the exercise\n",
    "from helpers import accuracy, DrawingPad"
   ]
  },
  {
   "cell_type": "code",
   "execution_count": null,
   "metadata": {},
   "outputs": [],
   "source": [
    "%matplotlib notebook\n",
    "%load_ext autoreload\n",
    "%autoreload 2"
   ]
  },
  {
   "cell_type": "markdown",
   "metadata": {},
   "source": [
    "## Part 1: PyTorch\n",
    "\n",
    "### 1.1: Motivation\n",
    "\n",
    "In the first part of the exercise we will revisit the MNIST dataset of hand-written digits, and we will train deep networks to classify the digits. Instead of doing all the hard coding work manually, we will simplify our life by using a deep learning framework: PyTorch.\n",
    "\n",
    "Last week we have implemented our own Multi-Layer Perceptron (MLP), where we defined both the forward pass and back-propagation together with a simple optimizer (SGD update rule) and successfully trained it to perform classification. Given the amount of code written, one can imagine that prototyping with various NN architectures and training strategies might get tedious. That is where PyTorch (and other deep learning frameworks) come into play.\n",
    "\n",
    "### 1.2: About PyTorch\n",
    "\n",
    "[PyTorch](https://pytorch.org/) is an optimized tensor library for deep learning using GPUs and CPUs. It allows\n",
    "for fast prototyping by providing high-level access to all necessary building blocks, including neural network (NN) layers, activation functions, loss functions, and optimizers, to name a few. Most importantly, however, PyTorch implements the [autograd](https://pytorch.org/docs/stable/autograd.html) package, which allows for automatic differentiation of the operations we use to define NN architectures. In other words, one only has to implement the forward pass, namely to combine desired layers, while the **backpropagation is computed automatically**.\n",
    "\n",
    "### 1.3: Basic pipeline\n",
    "\n",
    "To define and train deep net models, one would usually implement the following steps:\n",
    "\n",
    "    1. Load the dataset.\n",
    "    2. Define and instantiate a deep net architecture.\n",
    "    3. Choose or implement a loss function (such as the mean squared error).\n",
    "    4. Choose and instantiate an optimizer (such as the SGD).\n",
    "    5. Train by iterating over the dataset:\n",
    "        5.1. Load a batch.\n",
    "        5.2. Run a forward pass through your model.\n",
    "        5.3. Compute the loss.\n",
    "        5.4. Run a backward pass, i.e., compute gradients of the loss w.r.t. the trainable parameters (weights).\n",
    "        5.5. Update the weights using the optimizer.\n",
    "        5.6. Zero-out the accumulated gradients before the next iteration.\n",
    "        \n",
    "We will see this exact pipeline in our code as well.\n",
    "\n",
    "### 1.4: Essential building blocks\n",
    "\n",
    "This section gives a high-level summary of the most important components representing the bare minimum that you will need to start playing with PyTorch and deep net models. You might want to skim through the official tutorials as well, namely [What is PyTorch](https://pytorch.org/tutorials/beginner/blitz/tensor_tutorial.html#sphx-glr-beginner-blitz-tensor-tutorial-py) and [Neural Networks](https://pytorch.org/tutorials/beginner/blitz/neural_networks_tutorial.html#sphx-glr-beginner-blitz-neural-networks-tutorial-py). Here is the list of the components that will be explained in more detail along with the code blocks.\n",
    "\n",
    "  - **nn.Module**: Base class for NN architectures.\n",
    "  - **criterion**: A loss function.\n",
    "  - **backward-pass**: Derivatives computed by the autograd system.\n",
    "  - **optimizer**: Updates the trainable parameters (weights) during training."
   ]
  },
  {
   "cell_type": "markdown",
   "metadata": {},
   "source": [
    "### 1.5: Loading the data\n",
    "\n",
    "We are at step (1) of the training pipeline where we prepare the data. In PyTorch, loading the data is traditionally performed by creating:\n",
    "* a *dataset* that manages the loading and transformations of the data\n",
    "* and a *dataloader* that is a Python *iterator*, which returns the batches of data and associated labels from our dataset.\n",
    "\n",
    "PyTorch provides us with the `Dataset` and `DataLoader` classes for this.\n",
    "\n",
    "As was the case of previous week, we will work with the [MNIST](https://en.wikipedia.org/wiki/MNIST_database) dataset, where each sample is stored as a $28 \\times 28$ pixels grayscale image. The data samples are loaded as `torch.Tensor` data type, multi-dimentional matrices similar to `numpy.ndarray`.\n",
    "\n",
    "`MNIST` below is a sub-class of `Dataset`, which will download the dataset when used for the first time."
   ]
  },
  {
   "cell_type": "code",
   "execution_count": null,
   "metadata": {},
   "outputs": [],
   "source": [
    "batch_size = 128\n",
    "\n",
    "# Dataset and DataLoader for MLP.\n",
    "dataset_train = MNIST('data', train=True, download=True, transform=ToTensor())\n",
    "dataset_test = MNIST('data', train=False, download=True, transform=ToTensor())\n",
    "dataloader_train = DataLoader(dataset_train, batch_size=batch_size, shuffle=True, num_workers=4)\n",
    "dataloader_test = DataLoader(dataset_test, batch_size=batch_size, shuffle=False, num_workers=4)\n",
    "\n",
    "print('Loaded {} train and {} valid samples.'.format(len(dataset_train), len(dataset_test)))"
   ]
  },
  {
   "cell_type": "markdown",
   "metadata": {},
   "source": [
    "### 1.6: Multi-Layer Perceptron (MLP)\n",
    "\n",
    "#### Architecture\n",
    "\n",
    "We are at step (2) of the training pipeline, we want to define our deep learning model. We will start by implementing an MLP consisting of a 1D input layer (we flatten, i.e., vectorize, the input image) of shape ($784$, ), with $3$ hidden fully connected layers and an output layer of shape ($10$, ), as we have $10$ classes. \n",
    "\n",
    "As you saw last week, one layer of an MLP computes the following function:\n",
    "\n",
    "$$ \\yb = \\sigma (\\mathbf{W}\\xb + \\mathbf{b}), $$\n",
    "\n",
    "where $\\sigma$ is the activation, $\\mathbf{W}$ is the weight, and $\\mathbf{b}$ the bias. The type of layer that computes $\\mathbf{W}\\xb + \\mathbf{b}$ is referred to as *fully-connected* (FC) because every input is connected to every output (recall the MLP diagram from the lectures). Additionally, we also call them *linear* layers because they compute a linear function with respect to their input (plus a bias).\n",
    "\n",
    "#### Optimization criterion\n",
    "\n",
    "We would like to interpret the output vector $\\hat{\\yb} \\in \\real^{10}$ as the probabilities of data sample $\\xb \\in \\real^{784}$ belonging to each class $j \\in \\{0, 1, 2, ..., 9\\}$. Therefore, we will make use of the activation function **softmax**, defined as\n",
    "\n",
    "$$ \\mathrm{Softmax}_j(\\zb) = \\frac{\\exp{\\zb_{(j)}}}{\\sum_{k=0}^{9}{\\exp{\\zb_{(k)}}}}, $$\n",
    "\n",
    "on the final output of our network.\n",
    "The softmax guarantees that $\\sum_{k=0}^{9}{\\hat{\\yb}_{k}} = 1$ and $\\yb_j \\geq 0, \\, \\forall j$, meaning that out predicted vector $\\hat\\yb$ is indeed a valid probability distribution over classes. \n",
    "\n",
    "Finally, we would like to match the predicted distribution $\\hat{\\yb}$ to the ground truth (GT) one $\\yb$, where $\\yb$ is given as a one-hot encoding ($\\yb$ is all zeros except for a $1$ at the index $j$, if $j$ is the correct class to be predicted). The optimization criterion of choice is then to minimize the [**cross-entropy**](https://en.wikipedia.org/wiki/Cross_entropy) (CE) of $\\hat{\\yb}$ and $\\yb$. Therefore our final loss function $L$ is defined as:\n",
    "\n",
    "$$ L = \\text{CE}\\left(\\yb, \\hat{\\yb}\\right).$$\n",
    "\n",
    "Thankfully, PyTorch provides the implementation of $L$, so you will only really need to provide the output $\\zb$ (i.e. the 10-dimensional output of your last layer before the softmax). We will get back to $L$ later.\n",
    "\n",
    "---\n",
    "\n",
    "#### nn.Module\n",
    "Each custom NN architecture you choose to implement has to subclass the [`nn.Module`](https://pytorch.org/docs/stable/nn.html#module), which conveniently keeps track of all the trainable parameters. From the programmer's perspective, you have to implement the constructor, the `__init__()` function that creates a new instance, and override the `forward()` function, which computes the network's output:\n",
    "\n",
    "- **\\_\\_init__()**\n",
    "\n",
    "You will define your layers (e.g., fully connected layer, 2D convolutional layer, etc.) in the constructor, and `nn.Module` will automatically keep track of all the weights these layers contain.\n",
    "\n",
    "- **forward()**\n",
    "\n",
    "This function really defines the architecture, as you will sequentally call your layers in the desired order. Each time you call `forward()` (every training iteration), the so-called **computational graph** is built. It is a directed acyclic graph (DAG) of nodes corresponding to the operations you have called. Each node defines the derivative of its outputs w.r.t. its inputs. The computational graph is then traversed in the reversed fashion once you call `backward()` and the derivatives are computed.\n",
    "\n",
    "All the trainable parameters, which your model consists of, can be accessed via a call to `model.parameters()` implemented in `nn.Module`. This comes in handy once instantiating your optimizer as you have to pass all the parameters you want it to manage.\n",
    "\n",
    "---\n",
    "\n",
    "Your task is to define the MLP as depicted in the figure below. Please refer to the documentation and focus on\n",
    "the classes `nn.Linear` to define the layers and `F.relu` to call the activation funtion.\n",
    "\n",
    "<img src=\"img/mlp.png\" width=800></img>"
   ]
  },
  {
   "cell_type": "code",
   "execution_count": null,
   "metadata": {},
   "outputs": [],
   "source": [
    "class FC(nn.Module):\n",
    "    \"\"\" Standard Multi layer perceptron for classification into 10 \n",
    "    classes. Consists of 4 linear layers, ReLU activations are used \n",
    "    for the first 3.\n",
    "    \"\"\"\n",
    "    def __init__(self):\n",
    "        \"\"\" Constructor, layers definitions go here. Only specify\n",
    "        those layers which have any trainable parameters (but for\n",
    "        instance not the activation functions as the ones we use \n",
    "        do not have any trainable parameters). \"\"\"\n",
    "        super(FC, self).__init__()\n",
    "\n",
    "        # YOUR CODE HERE\n",
    "        self.fc1 = ...\n",
    "        self.fc2 = ...\n",
    "        self.fc3 = ...\n",
    "        self.fc4 = ...\n",
    "\n",
    "    def forward(self, x):\n",
    "        \"\"\" Feed-forward pass, this is where the actual computation happens\n",
    "        and the computational graph is built (from scratch each time this \n",
    "        function is called). \"\"\"\n",
    "        # The images are first flatten to vectors\n",
    "        x = x.flatten(-3)\n",
    "        \n",
    "        # YOUR CODE HERE\n",
    "        ...\n",
    "        return ...\n",
    "    \n",
    "# Instantiate the model.\n",
    "model_fc = FC()"
   ]
  },
  {
   "cell_type": "markdown",
   "metadata": {},
   "source": [
    "**Q:** How many learnable parameters (weights) does this model have?\n",
    "\n"
   ]
  },
  {
   "cell_type": "markdown",
   "metadata": {},
   "source": [
    "### 1.7: Inspecting the model architecture\n",
    "\n",
    "Let us check the model architecture and see how many trainable parameters we really use."
   ]
  },
  {
   "cell_type": "code",
   "execution_count": null,
   "metadata": {},
   "outputs": [],
   "source": [
    "print(model_fc)\n",
    "print(f\"The model has {sum([x.nelement() for x in model_fc.parameters()]):,} parameters.\")"
   ]
  },
  {
   "cell_type": "markdown",
   "metadata": {},
   "source": [
    "### 1.8: Loss function\n",
    "\n",
    "We are at step (3) of our pipeline. As explained above, our loss function $L$ will be the cross-entropy $\\text{CE}(\\yb, \\hat{\\yb})$, which is provided for us by PyTorch, please refer to the documentation of [`nn.CrossEntropyLoss`](https://pytorch.org/docs/stable/nn.html?highlight=cross_entropy#torch.nn.CrossEntropyLoss).\n",
    "\n",
    "There are [many commonly used loss functions](https://pytorch.org/docs/stable/nn.html#loss-functions) defined in the `torch.nn` module, and you can also implement your own using PyTorch operations. \n",
    "\n",
    "Here, we simply need to instantiate the CE loss function."
   ]
  },
  {
   "cell_type": "code",
   "execution_count": null,
   "metadata": {},
   "outputs": [],
   "source": [
    "# Define the loss fuction.\n",
    "criterion = ...  # YOUR CODE HERE"
   ]
  },
  {
   "cell_type": "markdown",
   "metadata": {},
   "source": [
    "### 1.9: Optimizer\n",
    "We are at step (4) of the pipeline. The [Optimizer](https://pytorch.org/docs/stable/optim.html) updates the weights of the network given their currently computed gradients. It can be a simple state-less function (such as SGD) or a more advanced one that keeps track of additional information about the weights and their gradients (such as a running mean), which can be used for more advanced update rules.\n",
    "\n",
    "We will opt for the simplest case, the state-less SGD. Your task is to instantiate this optimizer for the parameters (:= weights) of our model, please refer to [`optim.SGD`](https://pytorch.org/docs/stable/optim.html#torch.optim.SGD)."
   ]
  },
  {
   "cell_type": "code",
   "execution_count": null,
   "metadata": {},
   "outputs": [],
   "source": [
    "learning_rate = 1e-1\n",
    "optimizer = ...  # YOUR CODE HERE"
   ]
  },
  {
   "cell_type": "markdown",
   "metadata": {},
   "source": [
    "### 1.10: Training loop\n",
    "\n",
    "We are at step (5) of our pipeline. We would like to define a training loop where we iterate over the training samples, predict the outputs, and update the model based on its errors. Let us define a function `train_model()` that will be used for training any network architecture we come up with.\n",
    "\n",
    "Fill in the code that follows the steps 5.2 - 5.6 of our training pipeline. For running the backward pass, use the function [`backward()`](https://pytorch.org/docs/stable/autograd.html?highlight=backward#torch.autograd.backward). For zeroing out the accumulated gradients, use the function [`zero_grad()`](https://pytorch.org/docs/stable/nn.html?highlight=zero_grad#torch.nn.Module.zero_grad)."
   ]
  },
  {
   "cell_type": "code",
   "execution_count": null,
   "metadata": {},
   "outputs": [],
   "source": [
    "def train_model(model, criterion, optimizer, dataloader_train, dataloader_test, epochs):\n",
    "    for ep in range(epochs):\n",
    "        # Training.\n",
    "        model.train()\n",
    "        for it, batch in enumerate(dataloader_train):\n",
    "            # 5.1 Load a batch.\n",
    "            x, y = batch\n",
    "\n",
    "            # 5.2 Run forward pass.\n",
    "            logits = ...  # YOUR CODE HERE\n",
    "            \n",
    "            # 5.3 Compute loss (using 'criterion').\n",
    "            loss = ...  # YOUR CODE HERE\n",
    "            \n",
    "            # 5.4 Run backward pass.\n",
    "            ...  # YOUR CODE HERE\n",
    "            \n",
    "            # 5.5 Update the weights using optimizer.\n",
    "            ...  # YOUR CODE HERE\n",
    "            \n",
    "            # 5.6 Zero-out the accumulated gradients.\n",
    "            ...  # YOUR CODE HERE\n",
    "\n",
    "            print('\\rEp {}/{}, it {}/{}: loss train: {:.2f}, accuracy train: {:.2f}'.\n",
    "                  format(ep + 1, epochs, it + 1, len(dataloader_train), loss,\n",
    "                         accuracy(logits, y)), end='')\n",
    "\n",
    "        # Validation.\n",
    "        model.eval()\n",
    "        with torch.no_grad():\n",
    "            acc_run = 0\n",
    "            for it, batch in enumerate(dataloader_test):\n",
    "                # Get batch of data.\n",
    "                x, y = batch\n",
    "                curr_bs = x.shape[0]\n",
    "                acc_run += accuracy(model(x), y) * curr_bs\n",
    "            acc = acc_run / len(dataloader_test.dataset)\n",
    "\n",
    "            print(', accuracy test: {:.2f}'.format(acc))"
   ]
  },
  {
   "cell_type": "markdown",
   "metadata": {},
   "source": [
    "### Training the model"
   ]
  },
  {
   "cell_type": "markdown",
   "metadata": {},
   "source": [
    "Let's now use everything that we have prepared to train our model on MNIST:"
   ]
  },
  {
   "cell_type": "code",
   "execution_count": null,
   "metadata": {},
   "outputs": [],
   "source": [
    "epochs = 5\n",
    "train_model(model_fc, criterion, optimizer, dataloader_train, dataloader_test, epochs)"
   ]
  },
  {
   "cell_type": "markdown",
   "metadata": {},
   "source": [
    "## Part 2: Convolutional Neural Networks (CNNs)\n",
    "\n",
    "Our 4-layer MLP network works well, reaching a test accuracy of ~0.96. However, this network uses ~0.5M weights. We can use even deeper architectures with fewer parameters and take advantage of the 2D structure of the input data (images) using CNNs.\n",
    "\n",
    "### 2.1: LeNet-5\n",
    "\n",
    "Let us define a simple CNN with 2 convolutional layers with max-pooling and 3 FC layers. In particular, we will implement a variant of the architecture called [LeNet-5 introduced by Yann LeCun in 1999](http://yann.lecun.com/exdb/publis/pdf/lecun-99.pdf). \n",
    "\n",
    "\n",
    "Your task is to define a simple LeNet-5 architecture depicted in the figure below. Print the architecture and comment on the number of parameters. Finally train the model. To specify the layers, please additionally refer to [`Conv2d`](https://pytorch.org/docs/stable/nn.html#conv2d) and [`max_pool2d`](https://pytorch.org/docs/stable/nn.html?highlight=max_pool2d#torch.nn.functional.max_pool2d).\n",
    "\n",
    "<img src=\"img/lenet5.png\" width=800></img>"
   ]
  },
  {
   "cell_type": "code",
   "execution_count": null,
   "metadata": {},
   "outputs": [],
   "source": [
    "class CNN_LeNet(nn.Module):\n",
    "    \"\"\" CNN, expects input shape (1, 28, 28).\n",
    "    The initial 1 corresponds to the number of channel:\n",
    "    here 1 for the grayscale value.\n",
    "    \"\"\"\n",
    "    def __init__(self):\n",
    "        super(CNN_LeNet, self).__init__()\n",
    "\n",
    "        # YOUR CODE HERE\n",
    "        self.conv2d1 = ...\n",
    "        self.conv2d2 = ...\n",
    "        self.fc1 = ...\n",
    "        self.fc2 = ...\n",
    "        self.fc3 = ...\n",
    "\n",
    "    def forward(self, x):\n",
    "        # YOUR CODE HERE\n",
    "        ...\n",
    "        return ...\n",
    "    \n",
    "# Instantiate the model.\n",
    "model_lenet = CNN_LeNet()"
   ]
  },
  {
   "cell_type": "markdown",
   "metadata": {},
   "source": [
    "**Q:** What is the number of trainable parameters in our LeNet model?\n",
    "\n"
   ]
  },
  {
   "cell_type": "markdown",
   "metadata": {},
   "source": [
    "Let us check the architecture again and the number of trainable parameters. We can directly see that this architecture needs just about 20% of the parameters the MLP used."
   ]
  },
  {
   "cell_type": "code",
   "execution_count": null,
   "metadata": {},
   "outputs": [],
   "source": [
    "# Print out the architecture and number of parameters.\n",
    "print(model_lenet)\n",
    "print(f\"The model has {sum([x.nelement() for x in model_lenet.parameters()]):,} parameters.\")"
   ]
  },
  {
   "cell_type": "markdown",
   "metadata": {},
   "source": [
    "We can now again train our model. As the `train_model()` function we wrote is agnostic to the network used, and because PyTorch automatically computes the gradient for us, we can directly reuse it with our CNN.\n",
    "\n",
    "However, we do need to define a new optimizer to apply SGD to the weights of our new model!"
   ]
  },
  {
   "cell_type": "code",
   "execution_count": null,
   "metadata": {},
   "outputs": [],
   "source": [
    "# Train the model\n",
    "epochs = 5\n",
    "learning_rate = 1e-1\n",
    "optimizer_lenet = torch.optim.SGD(model_lenet.parameters(), lr=learning_rate)\n",
    "train_model(model_lenet, F.cross_entropy, optimizer_lenet, dataloader_train, dataloader_test, epochs)"
   ]
  },
  {
   "cell_type": "markdown",
   "metadata": {},
   "source": [
    "### 2.2: 3-layered CNN\n",
    "\n",
    "Let us now define an even deeper CNN with 3 convolutional layers and only 2 FC layers. This network should reach higher accuracy (or converge faster) and still use fewer parameters than the previous architectures.\n",
    "\n",
    "Your task is to implement a 3-layer CNN as depicted in the figure below, and check the number of parameters. Train the model and play around with the number of filters (convolutional kernels) used by every layer. Comment on your findings.\n",
    "\n",
    "<img src=\"img/cnn.png\" width=800></img>"
   ]
  },
  {
   "cell_type": "code",
   "execution_count": null,
   "metadata": {},
   "outputs": [],
   "source": [
    "class CNN(nn.Module):\n",
    "    \"\"\" CNN, expects input shape (1, 28, 28).\n",
    "    \"\"\"\n",
    "    def __init__(self, filters=(16, 32, 64)):\n",
    "        \"\"\"\n",
    "        Args\n",
    "        ----\n",
    "        filters: tuple of 3 integers\n",
    "            The number of filters (:=kernels) used in the network.\n",
    "            See the above image for reference.\n",
    "        \"\"\"\n",
    "        super(CNN, self).__init__()\n",
    "\n",
    "        self.conv2d1 = nn.Conv2d(1, filters[0], 3, 1, padding=1)\n",
    "        self.conv2d2 = nn.Conv2d(filters[0], filters[1], 3, 1, padding=1)\n",
    "        self.conv2d3 = nn.Conv2d(filters[1], filters[2], 3, 1, padding=1)\n",
    "        self.fc1 = nn.Linear(3 * 3 * filters[2], 128)\n",
    "        self.fc2 = nn.Linear(128, 10)\n",
    "\n",
    "    def forward(self, x):\n",
    "        # YOUR CODE HERE\n",
    "        ...\n",
    "        return ...\n",
    "\n",
    "# Instantiate the model.\n",
    "filters = (16, 32, 64)\n",
    "model_cnn = CNN(filters)"
   ]
  },
  {
   "cell_type": "code",
   "execution_count": null,
   "metadata": {},
   "outputs": [],
   "source": [
    "# Print out the architecture and number of parameters.\n",
    "print(model_cnn)\n",
    "print(f\"The model has {sum([x.nelement() for x in model_cnn.parameters()]):,} parameters.\")"
   ]
  },
  {
   "cell_type": "markdown",
   "metadata": {},
   "source": [
    "And again, we train our new model by reusing the same dataset, criterion, and training function, but with a new optimizer:"
   ]
  },
  {
   "cell_type": "code",
   "execution_count": null,
   "metadata": {},
   "outputs": [],
   "source": [
    "# Train the model.\n",
    "learning_rate = 1e-1\n",
    "optimizer_cnn = torch.optim.SGD(model_cnn.parameters(), lr=learning_rate)\n",
    "train_model(model_cnn, F.cross_entropy, optimizer_cnn, dataloader_train, dataloader_test, epochs)"
   ]
  },
  {
   "cell_type": "markdown",
   "metadata": {},
   "source": [
    "### 2.3: Trying out your own input\n",
    "\n",
    "We have provided a tool for you to draw your own digits and test your network. Play around with the inputs to get a sense of how accurate your model is. Use the button `reset` to reset the canvas and `predict` to run the prediction on the current canvas image. You can use the button `blur` to blur your drawn image so that it looks closer to the samples from the training set."
   ]
  },
  {
   "cell_type": "code",
   "execution_count": null,
   "metadata": {},
   "outputs": [],
   "source": [
    "dp = DrawingPad((28, 28), model_lenet)"
   ]
  }
 ],
 "metadata": {
  "kernelspec": {
   "display_name": "Python 3 (ipykernel)",
   "language": "python",
   "name": "python3"
  },
  "language_info": {
   "codemirror_mode": {
    "name": "ipython",
    "version": 3
   },
   "file_extension": ".py",
   "mimetype": "text/x-python",
   "name": "python",
   "nbconvert_exporter": "python",
   "pygments_lexer": "ipython3",
   "version": "3.8.13"
  }
 },
 "nbformat": 4,
 "nbformat_minor": 4
}
