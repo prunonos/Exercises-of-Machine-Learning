{
 "cells": [
  {
   "cell_type": "markdown",
   "metadata": {},
   "source": [
    "# Exercise Solutions: U-Net\n",
    "$\\renewcommand{\\real}{\\mathbb{R}}$\n",
    "$\\renewcommand{\\xb}{\\mathbf{x}}$\n",
    "$\\renewcommand{\\yb}{\\mathbf{y}}$\n",
    "$\\renewcommand{\\zb}{\\mathbf{z}}$\n",
    "$\\renewcommand{\\wb}{\\mathbf{w}}$\n",
    "$\\renewcommand{\\Xb}{\\mathbf{X}}$\n",
    "$\\renewcommand{\\Lb}{\\mathbf{L}}$\n",
    "$\\DeclareMathOperator*{\\argmin}{argmin}$"
   ]
  },
  {
   "cell_type": "markdown",
   "metadata": {},
   "source": [
    "U-Net is a convolutional neural network that was developed initially for biomedical image segmentation. This week, we will be working on implementing the U-Net architecture using PyTorch and performing an image segmentation task."
   ]
  },
  {
   "cell_type": "code",
   "execution_count": 1,
   "metadata": {},
   "outputs": [],
   "source": [
    "import matplotlib.pyplot as plt\n",
    "import numpy as np\n",
    "import copy\n",
    "import time\n",
    "\n",
    "import torch\n",
    "import torch.nn as nn\n",
    "from torch.utils.data import Dataset, DataLoader\n",
    "from torchvision import transforms, datasets, models\n",
    "import torch.optim as optim\n",
    "from torch.optim import lr_scheduler\n",
    "import torch.nn.functional as F\n",
    "\n",
    "import helper\n",
    "import simulation\n",
    "\n",
    "%matplotlib inline\n",
    "%load_ext autoreload\n",
    "%autoreload 2"
   ]
  },
  {
   "cell_type": "markdown",
   "metadata": {},
   "source": [
    "Today we will be working with a small dataset of synthetic images. Let us generate 2 images with their segmentation masks."
   ]
  },
  {
   "cell_type": "code",
   "execution_count": 2,
   "metadata": {},
   "outputs": [
    {
     "name": "stdout",
     "output_type": "stream",
     "text": [
      "Input images have shape (2, 1, 80, 80). Min value in image: 0. Max value in image: 255.\n",
      "Image masks have shape (2, 5, 80, 80). Min value in mask: 0.0. Max value in mask: 1.0.\n"
     ]
    }
   ],
   "source": [
    "# Generate some random images\n",
    "input_images, target_masks = simulation.generate_random_data(80, 80, count=2)\n",
    "\n",
    "print(\"Input images have shape {}. Min value in image: {}. Max value in image: {}.\".format(input_images.shape,input_images.min(),input_images.max()))\n",
    "print(\"Image masks have shape {}. Min value in mask: {}. Max value in mask: {}.\".format(target_masks.shape,target_masks.min(),target_masks.max()))\n"
   ]
  },
  {
   "cell_type": "markdown",
   "metadata": {},
   "source": [
    "The input images have shape (2, 1, 80, 80):  2 for the number of images, 1 for the color channels (they are black and white in this case), and (80,80) for the image height and width.\n",
    "\n",
    "The images contain 6 different shapes. For each input image we have a segmentation mask, with which we encode what shape the pixels in the image segment.\n",
    "\n",
    "The corresponding image masks have shape (2, 6, 80, 80): 2 for the number of images, 6 for the one-hot encoding of what shape the pixel is a part of (see image below), and (80,80) for the image height and width.\n",
    "\n",
    "Let us plot the image and the corresponding segmentation mask to get a better idea of our data."
   ]
  },
  {
   "cell_type": "code",
   "execution_count": 3,
   "metadata": {},
   "outputs": [
    {
     "data": {
      "image/png": "[encoded data removed]",
      "text/plain": [
       "<Figure size 576x576 with 4 Axes>"
      ]
     },
     "metadata": {
      "needs_background": "light"
     },
     "output_type": "display_data"
    }
   ],
   "source": [
    "# Change channel-order and make 3 channels just for plotting\n",
    "input_images_rgb = [x.astype(np.uint8).repeat(3,axis=0).transpose(1,2,0) for x in input_images]\n",
    "\n",
    "# Map each channel (i.e. class) to each color\n",
    "target_masks_rgb = [helper.masks_to_colorimg(x) for x in target_masks]\n",
    "\n",
    "# Left: Input image (black and white), Right: Target mask (6ch)\n",
    "helper.plot_side_by_side([input_images_rgb, target_masks_rgb])"
   ]
  },
  {
   "cell_type": "markdown",
   "metadata": {},
   "source": [
    "Now we will be using PyTorch's Dataset class for preparing the data. Our SimDataset class will inherit from PyTorch's dataset class. We need to overwrite the functions `__len__(self)`, and `__getitem__(self, idx)`.\n",
    "\n",
    "*  `__len__(self)`: returns the size of the dataset.\n",
    "\n",
    "* `__getitem__(self, idx)`: returns the data sample at index `idx`.\n",
    "\n",
    "\n",
    "(Hint: The tutorial at https://pytorch.org/tutorials/beginner/data_loading_tutorial.html#dataset-class is very helpful and we encourage you to have a look at it. You can also add transformations for data augmentation etc. very easily!)"
   ]
  },
  {
   "cell_type": "code",
   "execution_count": 4,
   "metadata": {},
   "outputs": [],
   "source": [
    "class SimDataset(Dataset):\n",
    "    def __init__(self, count):\n",
    "        # We generate our data \n",
    "        self.input_images, self.target_masks = simulation.generate_random_data(80, 80, count=count)\n",
    "\n",
    "    def __len__(self):\n",
    "        #YOUR CODE HERE. Return the size of the dataset\n",
    "        return len(self.input_images)\n",
    "\n",
    "    def __getitem__(self, idx):\n",
    "        #YOUR CODE HERE. Select data and mask at index idx.\n",
    "        image = self.input_images[idx]\n",
    "        mask = self.target_masks[idx]\n",
    "        \n",
    "        return [image, mask]"
   ]
  },
  {
   "cell_type": "markdown",
   "metadata": {},
   "source": [
    "Now, we will use PyTorch's DataLoader class. This is an iterator which allows us to batch the data, shuffle it and load it with multiprocessing workers in parallel."
   ]
  },
  {
   "cell_type": "code",
   "execution_count": 5,
   "metadata": {},
   "outputs": [],
   "source": [
    "#Create the datasets and use PyTorch's DataLoader class.\n",
    "train_set = SimDataset(300)\n",
    "val_set = SimDataset(20)\n",
    "test_set = SimDataset(3)\n",
    "\n",
    "train_dataloader = DataLoader(train_set, batch_size=20, shuffle=True)\n",
    "val_dataloader= DataLoader(val_set, batch_size=20, shuffle=True)\n",
    "test_dataloader= DataLoader(test_set, batch_size=3, shuffle=False)"
   ]
  },
  {
   "cell_type": "markdown",
   "metadata": {},
   "source": [
    "Now that we have our Dataset and Dataloader, it is time to design our deep network! Since we are doing image segmentation, we choose to use a U-Net architecture here, which was first introduced in the paper \"U-Net: Convolutional Networks for Biomedical Image Segmentation\" ([link to paper](https://arxiv.org/abs/1505.04597) for the interested). The original architecture looks like this:"
   ]
  },
  {
   "cell_type": "markdown",
   "metadata": {},
   "source": [
    "<img src=\"img/unet.png\" width=800></img>"
   ]
  },
  {
   "cell_type": "markdown",
   "metadata": {},
   "source": [
    "We will quote the architecture description from the paper directly: \n",
    "\n",
    "> It consists of a contracting path (left side) and an expansive path (right side). \n",
    "\n",
    "> The contracting path follows the typical architecture of a convolutional network. It consists of the repeated application of **two 3x3 convolutions** (unpadded convolutions), each followed by a **rectified linear unit (ReLU)** and a **2x2 max pooling operation with stride 2** for downsampling. At each downsampling step we double the number of feature channels. \n",
    "\n",
    "\n",
    "> Every step in the expansive path consists of an **upsampling** of the feature map followed by a **2x2 convolution (“up-convolution”)** that halves the number of feature channels, a **concatenation with the correspondingly cropped feature map** from the contracting path, and **two 3x3 convolutions**, each followed by a **ReLU**. The cropping is necessary due to the loss of border pixels in every convolution. At the final layer a 1x1 convolution is used to map each 64- component feature vector to the desired number of classes. In total the network has 23 convolutional layers."
   ]
  },
  {
   "cell_type": "markdown",
   "metadata": {},
   "source": [
    "In our case, we make matters slightly simpler by using padded convolutions with padding of size 1, so that the image doesn't become smaller after the convolution operations. This way, we do not have to crop the feature map from the contracting path for the concatenation. We will also build a slightly smaller network, since our images are not so large in size to begin with. The network we want to implement is shown below."
   ]
  },
  {
   "cell_type": "markdown",
   "metadata": {},
   "source": [
    "<img src=\"img/unet-2.png\" width=800></img>"
   ]
  },
  {
   "cell_type": "markdown",
   "metadata": {},
   "source": [
    "So now lets code this! We would like to first create a module class for the double convolution operation (convolution -> batch norm -> ReLU -> convolution -> batch norm -> ReLU), since it is repeated several times in the architecture. This class inherits from PyTorch's module class. We use the nn.Sequential to define the layers in this module. \n",
    "\n",
    "Just to show you how this works, we wrote the class for a single convolution followed by a Sigmoid operation called `DummyConv`. We then use this `DummyConv` module three times in the `DummyNetwork`. Study how this works. "
   ]
  },
  {
   "cell_type": "code",
   "execution_count": 7,
   "metadata": {},
   "outputs": [],
   "source": [
    "class DummyConv(nn.Module):\n",
    "    \"\"\"(convolution => sigmoid)\"\"\"\n",
    "\n",
    "    def __init__(self, in_channels, out_channels):            \n",
    "        super().__init__()\n",
    "            \n",
    "        self.single_conv = nn.Sequential(\n",
    "            nn.Conv2d(in_channels, out_channels, kernel_size=3, padding=1),\n",
    "            nn.Sigmoid(inplace=True)\n",
    "        )\n",
    "\n",
    "    def forward(self, x):\n",
    "        return self.single_conv(x)\n",
    "\n",
    "    \n",
    "\n",
    "class DummyNetwork(nn.Module):\n",
    "\n",
    "    def __init__(self, n_channels):\n",
    "        super(DummyNetwork, self).__init__()\n",
    "        self.initial_layer = DummyConv(n_channels, 64)\n",
    "        self.second_layer = DummyConv(64, 128)\n",
    "        self.third_layer = DummyConv(128, 256)\n",
    "\n",
    "    def forward(self, x):\n",
    "        x1 = self.initial_layer(x)\n",
    "        x2 = self.second_layer(x1)\n",
    "        x3 = self.third_layer(x2)\n",
    "        return x3"
   ]
  },
  {
   "cell_type": "markdown",
   "metadata": {},
   "source": [
    "Now you are ready to implement the `DoubleConv` module. Use the template above as help!"
   ]
  },
  {
   "cell_type": "code",
   "execution_count": 8,
   "metadata": {},
   "outputs": [],
   "source": [
    "class DoubleConv(nn.Module):\n",
    "    \"\"\"(convolution => batch normalization => ReLU => convolution => batch normalization => ReLU)\n",
    "    Batch normalization is a technique for normalization over mini-batches. \n",
    "    You can use PyTorch's nn.BatchNorm2d layer \n",
    "    https://pytorch.org/docs/stable/generated/torch.nn.BatchNorm2d.html.\n",
    "        \"\"\"\n",
    "    ## YOUR CODE HERE\n",
    "    \n",
    "    def __init__(self, in_channels, out_channels, mid_channels=None):\n",
    "        super().__init__()\n",
    "\n",
    "        self.double_conv = nn.Sequential(\n",
    "            nn.Conv2d(in_channels, out_channels, kernel_size=3, padding=1),\n",
    "            nn.BatchNorm2d(out_channels),\n",
    "            nn.ReLU(inplace=True),\n",
    "            nn.Conv2d(out_channels, out_channels, kernel_size=3, padding=1),\n",
    "            nn.BatchNorm2d(out_channels),\n",
    "            nn.ReLU(inplace=True)\n",
    "        )\n",
    "\n",
    "    def forward(self, x):\n",
    "        return self.double_conv(x)"
   ]
  },
  {
   "cell_type": "markdown",
   "metadata": {},
   "source": [
    "Now let us implement the UNet class, as we did in previous week's exercise. We've started the implementation as a hint and left the rest for you to fill."
   ]
  },
  {
   "cell_type": "code",
   "execution_count": 9,
   "metadata": {},
   "outputs": [],
   "source": [
    "class UNet(nn.Module):\n",
    "    def __init__(self, n_channels, n_classes):\n",
    "        super(UNet, self).__init__()\n",
    "        self.n_channels = n_channels\n",
    "        self.n_classes = n_classes\n",
    "\n",
    "        self.dc1 = DoubleConv(n_channels, 64)\n",
    "        self.mp1 = nn.MaxPool2d(2)\n",
    "        self.dc2 = DoubleConv(64, 128)\n",
    "        \n",
    "        ##YOUR CODE HERE\n",
    "        self.mp2 = nn.MaxPool2d(2)\n",
    "        self.dc3 = DoubleConv(128, 256)\n",
    "        self.mp3 = nn.MaxPool2d(2)\n",
    "        self.dc4 = DoubleConv(256, 512)\n",
    "\n",
    "        self.up1 = nn.ConvTranspose2d(512, 256, kernel_size=2, stride=2)\n",
    "        self.dc5 = DoubleConv(512, 256)\n",
    "        self.up2 = nn.ConvTranspose2d(256, 128, kernel_size=2, stride=2)\n",
    "        self.dc6 = DoubleConv(256, 128)\n",
    "        ###\n",
    "        \n",
    "        self.up3 = nn.ConvTranspose2d(128, 64, kernel_size=2, stride=2)\n",
    "        self.dc7 = DoubleConv(128, 64)\n",
    "        self.outc = nn.Conv2d(64, n_classes, kernel_size=1)\n",
    "\n",
    "    def forward(self, x):\n",
    "        \n",
    "        x1 = self.dc1(x)\n",
    "        x2 = self.mp1(x1)\n",
    "        x2 = self.dc2(x2)\n",
    "        \n",
    "        ## YOUR CODE HERE\n",
    "        x3 = self.mp2(x2)\n",
    "        x3 = self.dc3(x3)\n",
    "        x4 = self.mp3(x3)\n",
    "        x4 = self.dc4(x4)\n",
    "\n",
    "        x = self.up1(x4)\n",
    "        x = torch.cat([x3, x], dim=1)\n",
    "        x = self.dc5(x)\n",
    "        x = self.up2(x)\n",
    "        x = torch.cat([x2, x], dim=1)\n",
    "        x = self.dc6(x)\n",
    "        ### \n",
    "#         \n",
    "        x = self.up3(x)\n",
    "        x = torch.cat([x1, x], dim=1)\n",
    "        x = self.dc7(x)\n",
    "        logits = self.outc(x)\n",
    "        return logits"
   ]
  },
  {
   "cell_type": "markdown",
   "metadata": {},
   "source": [
    "Now let's create this architecture."
   ]
  },
  {
   "cell_type": "code",
   "execution_count": 10,
   "metadata": {},
   "outputs": [],
   "source": [
    "device = torch.device('cuda' if torch.cuda.is_available() else 'cpu')\n",
    "model = UNet(n_channels=1, n_classes=5)\n",
    "model = model.to(device)"
   ]
  },
  {
   "cell_type": "markdown",
   "metadata": {},
   "source": [
    "We use a sum of binary cross entropy loss and dice loss for our loss, since image segmentation is actually a classification problem (you can think of it as classifying what object the pixels belong to, if they belong to any.) You're already familiar with cross entropy loss from the lectures. Dice loss is a measure of overlap between the prediction and the ground truth labels and is also used for image segmentation tasks.\n"
   ]
  },
  {
   "cell_type": "code",
   "execution_count": 11,
   "metadata": {},
   "outputs": [],
   "source": [
    "def dice_loss(pred, target, smooth = 1.):\n",
    "    pred = pred.contiguous()\n",
    "    target = target.contiguous()    \n",
    "\n",
    "    intersection = (pred * target).sum(dim=2).sum(dim=2)\n",
    "    \n",
    "    loss = (1 - ((2. * intersection + smooth) / (pred.sum(dim=2).sum(dim=2) + target.sum(dim=2).sum(dim=2) + smooth)))\n",
    "    \n",
    "    return loss.mean()\n",
    "\n",
    "def calc_loss(pred, target):\n",
    "    bce_weight = 0.5\n",
    "    bce = F.binary_cross_entropy_with_logits(pred, target)\n",
    "    pred = torch.sigmoid(pred)\n",
    "    dice = dice_loss(pred, target)\n",
    "    loss = bce * bce_weight + dice * (1 - bce_weight)\n",
    "    return loss\n"
   ]
  },
  {
   "cell_type": "markdown",
   "metadata": {},
   "source": [
    "The training code is given below. Fill in the missing part of the training loop! Call the `calc_loss` function above to calculate the loss."
   ]
  },
  {
   "cell_type": "code",
   "execution_count": 12,
   "metadata": {},
   "outputs": [],
   "source": [
    "def train_model(model, optimizer, scheduler, num_epochs=10):\n",
    "    best_loss = 1e10\n",
    "    best_model_wts = None\n",
    "    for epoch in range(num_epochs):\n",
    "        print('Epoch {}/{}'.format(epoch, num_epochs - 1))\n",
    "        print('-' * 10)\n",
    "\n",
    "        since = time.time()\n",
    "        for param_group in optimizer.param_groups:\n",
    "            print(\"LR\", param_group['lr'])\n",
    "\n",
    "        ##### TRAINING:\n",
    "        model.train()  # Set model to training mode\n",
    "        epoch_loss = 0\n",
    "        epoch_samples = 0\n",
    "        #load the images and masks\n",
    "        for bi, (inputs, labels) in enumerate(train_dataloader):\n",
    "            print(f\"\\rProcessing batch {bi}/\"\n",
    "                  f\"{len(train_dataloader) - 1}\", end='')\n",
    "            inputs = inputs.to(device).float()\n",
    "            labels = labels.to(device).float()\n",
    "\n",
    "            with torch.set_grad_enabled(True):\n",
    "                ## YOUR CODE HERE\n",
    "                outputs = model(inputs)\n",
    "                loss = calc_loss(outputs, labels)\n",
    "                loss.backward()\n",
    "                optimizer.step()\n",
    "                optimizer.zero_grad()\n",
    "\n",
    "                # statistics\n",
    "                epoch_samples +=  inputs.size(0)\n",
    "                epoch_loss += loss.data.cpu().numpy() * inputs.size(0)\n",
    "        print(\"Training epoch loss: {}\".format(epoch_loss/epoch_samples))\n",
    "        scheduler.step()\n",
    "\n",
    "        ##### VALIDATION:\n",
    "        model.eval()   # Set model to evaluate mode\n",
    "        epoch_loss = 0\n",
    "        epoch_samples = 0\n",
    "        for inputs, labels in val_dataloader:\n",
    "            inputs = inputs.to(device).float()\n",
    "            labels = labels.to(device).float()\n",
    "\n",
    "            with torch.set_grad_enabled(False):\n",
    "                outputs = model(inputs)\n",
    "                loss = calc_loss(outputs, labels)\n",
    "\n",
    "                # statistics\n",
    "                epoch_loss += loss.data.cpu().numpy() * inputs.size(0)\n",
    "                epoch_samples +=  inputs.size(0)\n",
    "        print(\"Val epoch loss: {}\".format(epoch_loss/epoch_samples))\n",
    "\n",
    "        # save the model if the loss is the best\n",
    "        if epoch_loss/epoch_samples < best_loss:\n",
    "            print(\"saving best model\")\n",
    "            best_loss = epoch_loss/epoch_samples\n",
    "            best_model_wts = copy.deepcopy(model.state_dict())\n",
    "\n",
    "        time_elapsed = time.time() - since\n",
    "        print('{:.0f}m {:.0f}s'.format(time_elapsed // 60, time_elapsed % 60))\n",
    "\n",
    "    print('Best val loss: {:4f}'.format(best_loss))\n",
    "\n",
    "    # load best model weights\n",
    "    model.load_state_dict(best_model_wts)\n"
   ]
  },
  {
   "cell_type": "markdown",
   "metadata": {},
   "source": [
    "And finally, it is time to train! \n",
    "\n",
    "First we will create the optimizer. This time we will use the Adam optimizer ([optim.Adam](https://pytorch.org/docs/stable/optim.html)). Set the learning rate to 1e-2.\n",
    "\n",
    "We've also created a learning rate scheduler for you, which gradually reduces the learning rate during training.\n",
    "\n",
    "If you have a GPU with CUDA support, this should be pretty fast! However, it might take a while if you only train on the CPU. If this is the case, try it with a reduced number of epochs first. (You should be seeing some segmented objects after 3 epochs (but keep in mind that at this point the classification will be likely wrong, i.e. visually the colors will not match)."
   ]
  },
  {
   "cell_type": "code",
   "execution_count": null,
   "metadata": {},
   "outputs": [],
   "source": [
    "model = UNet(n_channels=1, n_classes=5)\n",
    "model = model.to(device)\n",
    "optimizer_ft = optim.Adam(model.parameters(), lr=1e-2)\n",
    "exp_lr_scheduler = lr_scheduler.StepLR(optimizer_ft, step_size=3, gamma=0.9)\n",
    "train_model(model, optimizer_ft, exp_lr_scheduler, num_epochs=10)"
   ]
  },
  {
   "cell_type": "markdown",
   "metadata": {},
   "source": [
    "Now let's see how well we do on the test data! We plot the ground truth masks and the predicted masks side by side below."
   ]
  },
  {
   "cell_type": "code",
   "execution_count": null,
   "metadata": {},
   "outputs": [],
   "source": [
    "# Get the first batch\n",
    "inputs, labels = next(iter(test_dataloader))\n",
    "inputs = inputs.to(device).float()\n",
    "labels = labels.to(device).float()\n",
    "\n",
    "# Predict\n",
    "pred = model(inputs)\n",
    "pred = torch.sigmoid(pred)\n",
    "pred = pred.data.cpu().numpy()\n",
    "\n",
    "# Change channel-order and make 3 channels for matplot\n",
    "input_images_rgb = [x.repeat(3,axis=0).transpose(1,2,0).astype(np.uint8) for x in inputs.cpu().numpy()]\n",
    "\n",
    "# Map each channel (i.e. class) to each color\n",
    "target_masks_rgb = [helper.masks_to_colorimg(x) for x in labels.cpu().numpy()]\n",
    "pred_rgb = [helper.masks_to_colorimg(x) for x in pred]\n",
    "helper.plot_side_by_side([target_masks_rgb, pred_rgb])\n",
    "helper.plot_side_by_side([input_images_rgb, pred_rgb])"
   ]
  },
  {
   "cell_type": "markdown",
   "metadata": {},
   "source": [
    "**Acknowledgements:**\n",
    "\n",
    "This notebook contains a mix of usuyama's https://github.com/usuyama/pytorch-unet and milesial's https://github.com/milesial/Pytorch-UNet code."
   ]
  }
 ],
 "metadata": {
  "kernelspec": {
   "display_name": "Python 3 (ipykernel)",
   "language": "python",
   "name": "python3"
  },
  "language_info": {
   "codemirror_mode": {
    "name": "ipython",
    "version": 3
   },
   "file_extension": ".py",
   "mimetype": "text/x-python",
   "name": "python",
   "nbconvert_exporter": "python",
   "pygments_lexer": "ipython3",
   "version": "3.8.12"
  }
 },
 "nbformat": 4,
 "nbformat_minor": 4
}
